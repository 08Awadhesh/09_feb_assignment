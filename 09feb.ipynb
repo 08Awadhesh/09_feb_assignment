{
 "cells": [
  {
   "cell_type": "markdown",
   "id": "5c1d7a57-a6b0-4bdf-a80d-4fdab7228971",
   "metadata": {},
   "source": [
    "**Answer-1**"
   ]
  },
  {
   "cell_type": "code",
   "execution_count": 1,
   "id": "caa714c4-0881-4bd9-ad73-81756cb0b0ca",
   "metadata": {},
   "outputs": [
    {
     "name": "stdout",
     "output_type": "stream",
     "text": [
      "Vehicle Name: Car, Max Speed: 180, Average: 15\n"
     ]
    }
   ],
   "source": [
    "class Vehicle:\n",
    "    def __init__(self, name_of_vehicle, max_speed, average_of_vehicle):\n",
    "        self.name_of_vehicle = name_of_vehicle\n",
    "        self.max_speed = max_speed\n",
    "        self.average_of_vehicle = average_of_vehicle\n",
    "\n",
    "# Example of creating a Vehicle object\n",
    "vehicle1 = Vehicle(\"Car\", 180, 15)\n",
    "print(f\"Vehicle Name: {vehicle1.name_of_vehicle}, Max Speed: {vehicle1.max_speed}, Average: {vehicle1.average_of_vehicle}\")\n"
   ]
  },
  {
   "cell_type": "markdown",
   "id": "1cb8ed60-bf43-4729-befc-14fabf49fce5",
   "metadata": {},
   "source": [
    "**Answer-2**"
   ]
  },
  {
   "cell_type": "code",
   "execution_count": 2,
   "id": "b69d3c10-6520-4346-85b9-b2c365a6ac9f",
   "metadata": {},
   "outputs": [
    {
     "name": "stdout",
     "output_type": "stream",
     "text": [
      "Sedan has a seating capacity of 5.\n"
     ]
    }
   ],
   "source": [
    "class Vehicle:\n",
    "    def __init__(self, name_of_vehicle, max_speed, average_of_vehicle):\n",
    "        self.name_of_vehicle = name_of_vehicle\n",
    "        self.max_speed = max_speed\n",
    "        self.average_of_vehicle = average_of_vehicle\n",
    "\n",
    "class Car(Vehicle):\n",
    "    def seating_capacity(self, capacity):\n",
    "        return f\"{self.name_of_vehicle} has a seating capacity of {capacity}.\"\n",
    "\n",
    "# Example of creating a Car object\n",
    "car1 = Car(\"Sedan\", 200, 18)\n",
    "print(car1.seating_capacity(5))\n"
   ]
  },
  {
   "cell_type": "markdown",
   "id": "7e3aa244-e872-4dfe-acff-3d34be81f131",
   "metadata": {},
   "source": [
    "**Answer-3**"
   ]
  },
  {
   "cell_type": "code",
   "execution_count": 3,
   "id": "1f00f95c-c6cc-4fe0-a362-a5ffcf8f5e44",
   "metadata": {},
   "outputs": [
    {
     "name": "stdout",
     "output_type": "stream",
     "text": [
      "Vehicle: Sedan\n",
      "Max Speed: 220 km/h\n",
      "Average: 15 km/l\n",
      "Engine Type: V6\n",
      "Number of Wheels: 4\n",
      "The V6 engine is starting.\n",
      "The vehicle is moving on 4 wheels.\n"
     ]
    }
   ],
   "source": [
    "# Define the first parent class\n",
    "class Engine:\n",
    "    def __init__(self, engine_type):\n",
    "        self.engine_type = engine_type\n",
    "    \n",
    "    def start_engine(self):\n",
    "        return f\"The {self.engine_type} engine is starting.\"\n",
    "\n",
    "# Define the second parent class\n",
    "class Wheels:\n",
    "    def __init__(self, number_of_wheels):\n",
    "        self.number_of_wheels = number_of_wheels\n",
    "    \n",
    "    def move(self):\n",
    "        return f\"The vehicle is moving on {self.number_of_wheels} wheels.\"\n",
    "\n",
    "# Define the child class that inherits from both Engine and Wheels\n",
    "class Car(Engine, Wheels):\n",
    "    def __init__(self, name_of_vehicle, max_speed, average_of_vehicle, engine_type, number_of_wheels):\n",
    "        # Initialize the parent classes\n",
    "        Engine.__init__(self, engine_type)\n",
    "        Wheels.__init__(self, number_of_wheels)\n",
    "        # Initialize additional attributes\n",
    "        self.name_of_vehicle = name_of_vehicle\n",
    "        self.max_speed = max_speed\n",
    "        self.average_of_vehicle = average_of_vehicle\n",
    "    \n",
    "    def get_details(self):\n",
    "        return (f\"Vehicle: {self.name_of_vehicle}\\n\"\n",
    "                f\"Max Speed: {self.max_speed} km/h\\n\"\n",
    "                f\"Average: {self.average_of_vehicle} km/l\\n\"\n",
    "                f\"Engine Type: {self.engine_type}\\n\"\n",
    "                f\"Number of Wheels: {self.number_of_wheels}\")\n",
    "\n",
    "# Example of creating a Car object\n",
    "car1 = Car(\"Sedan\", 220, 15, \"V6\", 4)\n",
    "\n",
    "# Demonstrate the use of multiple inheritance\n",
    "print(car1.get_details())\n",
    "print(car1.start_engine())\n",
    "print(car1.move())\n"
   ]
  },
  {
   "cell_type": "markdown",
   "id": "74b86157-a776-491b-b9c3-a7bdff41ff54",
   "metadata": {},
   "source": [
    "**Answer-4**"
   ]
  },
  {
   "cell_type": "markdown",
   "id": "8dd4c7e0-6da6-4d76-91bf-38605c218fb2",
   "metadata": {},
   "source": [
    "### Getter and Setter in Python\n",
    "\n",
    "In Python, getter and setter methods are used to access and modify the attributes of a class. They provide a way to encapsulate and control access to the internal state of an object.\n",
    "\n",
    "- **Getter Method**: A method that allows you to access an attribute's value.\n",
    "- **Setter Method**: A method that allows you to set or update an attribute's value.\n",
    "\n",
    "### EXAMPLE-"
   ]
  },
  {
   "cell_type": "code",
   "execution_count": 4,
   "id": "10a41f41-c4ad-4a99-882e-dffb41814405",
   "metadata": {},
   "outputs": [
    {
     "name": "stdout",
     "output_type": "stream",
     "text": [
      "John Doe\n",
      "30\n",
      "Jane Doe\n",
      "25\n"
     ]
    }
   ],
   "source": [
    "class Person:\n",
    "    def __init__(self, name, age):\n",
    "        self._name = name  # _name indicates that this attribute should not be accessed directly\n",
    "        self._age = age    # _age indicates that this attribute should not be accessed directly\n",
    "\n",
    "    # Getter method for name\n",
    "    @property\n",
    "    def name(self):\n",
    "        return self._name\n",
    "\n",
    "    # Setter method for name\n",
    "    @name.setter\n",
    "    def name(self, name):\n",
    "        if not isinstance(name, str):\n",
    "            raise ValueError(\"Name must be a string\")\n",
    "        self._name = name\n",
    "\n",
    "    # Getter method for age\n",
    "    @property\n",
    "    def age(self):\n",
    "        return self._age\n",
    "\n",
    "    # Setter method for age\n",
    "    @age.setter\n",
    "    def age(self, age):\n",
    "        if not (isinstance(age, int) and age > 0):\n",
    "            raise ValueError(\"Age must be a positive integer\")\n",
    "        self._age = age\n",
    "\n",
    "# Example usage\n",
    "person1 = Person(\"John Doe\", 30)\n",
    "\n",
    "# Using getter methods\n",
    "print(person1.name)  # Output: John Doe\n",
    "print(person1.age)   # Output: 30\n",
    "\n",
    "# Using setter methods\n",
    "person1.name = \"Jane Doe\"\n",
    "person1.age = 25\n",
    "\n",
    "print(person1.name)  # Output: Jane Doe\n",
    "print(person1.age)   # Output: 25\n",
    "\n",
    "# Attempt to set invalid values (will raise exceptions)\n",
    "# person1.name = 123    # Uncommenting this line will raise ValueError: Name must be a string\n",
    "# person1.age = -5      # Uncommenting this line will raise ValueError: Age must be a positive integer\n"
   ]
  },
  {
   "cell_type": "markdown",
   "id": "c279fdb2-1157-44e7-bebe-8b705a59ffab",
   "metadata": {},
   "source": [
    "### Answer-5"
   ]
  },
  {
   "cell_type": "markdown",
   "id": "0e72e912-ee14-45a1-8912-1601e65aa106",
   "metadata": {},
   "source": [
    "## Method Overriding in Python\n",
    "Method overriding is a feature in object-oriented programming that allows a subclass to provide a specific implementation of a method that is already defined in its superclass. The overridden method in the subclass should have the same name, parameters, and return type as the method in the superclass. This allows the subclass to tailor or extend the behavior of the superclass method.\n",
    "\n",
    "## Python Code to Demonstrate Method Overriding\n",
    "Here's an example demonstrating method overriding in Python:"
   ]
  },
  {
   "cell_type": "code",
   "execution_count": 5,
   "id": "360026fb-2f34-4b15-baa5-d64fb95723e0",
   "metadata": {},
   "outputs": [
    {
     "name": "stdout",
     "output_type": "stream",
     "text": [
      "Some generic sound\n",
      "Bark\n",
      "Meow\n"
     ]
    }
   ],
   "source": [
    "class Animal:\n",
    "    def make_sound(self):\n",
    "        return \"Some generic sound\"\n",
    "\n",
    "class Dog(Animal):\n",
    "    def make_sound(self):\n",
    "        return \"Bark\"\n",
    "\n",
    "class Cat(Animal):\n",
    "    def make_sound(self):\n",
    "        return \"Meow\"\n",
    "\n",
    "# Example usage\n",
    "animal = Animal()\n",
    "dog = Dog()\n",
    "cat = Cat()\n",
    "\n",
    "print(animal.make_sound())  # Output: Some generic sound\n",
    "print(dog.make_sound())     # Output: Bark\n",
    "print(cat.make_sound())     # Output: Meow\n"
   ]
  },
  {
   "cell_type": "code",
   "execution_count": null,
   "id": "267ae24b-bc50-48b5-ba28-c8da1f65a307",
   "metadata": {},
   "outputs": [],
   "source": []
  }
 ],
 "metadata": {
  "kernelspec": {
   "display_name": "Python 3 (ipykernel)",
   "language": "python",
   "name": "python3"
  },
  "language_info": {
   "codemirror_mode": {
    "name": "ipython",
    "version": 3
   },
   "file_extension": ".py",
   "mimetype": "text/x-python",
   "name": "python",
   "nbconvert_exporter": "python",
   "pygments_lexer": "ipython3",
   "version": "3.10.8"
  }
 },
 "nbformat": 4,
 "nbformat_minor": 5
}
